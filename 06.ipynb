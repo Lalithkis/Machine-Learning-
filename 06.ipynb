{
 "cells": [
  {
   "cell_type": "code",
   "execution_count": 1,
   "metadata": {},
   "outputs": [
    {
     "name": "stdout",
     "output_type": "stream",
     "text": [
      "Best parameters found by GridSearchCV:\n",
      "{'knn__n_neighbors': 7, 'knn__weights': 'uniform', 'pca__n_components': 75}\n",
      "Test Accuracy: 0.98\n",
      "Classification Report:\n",
      "              precision    recall  f1-score   support\n",
      "\n",
      "           3       0.99      0.98      0.98      2155\n",
      "           8       0.98      0.98      0.98      2035\n",
      "\n",
      "    accuracy                           0.98      4190\n",
      "   macro avg       0.98      0.98      0.98      4190\n",
      "weighted avg       0.98      0.98      0.98      4190\n",
      "\n",
      "Confusion Matrix:\n",
      "[[2115   40]\n",
      " [  32 2003]]\n"
     ]
    }
   ],
   "source": [
    "import numpy as np\n",
    "import pandas as pd\n",
    "from sklearn.model_selection import train_test_split, GridSearchCV\n",
    "from sklearn.neighbors import KNeighborsClassifier\n",
    "from sklearn.decomposition import PCA\n",
    "from sklearn.metrics import accuracy_score, classification_report, confusion_matrix\n",
    "from sklearn.preprocessing import StandardScaler\n",
    "from sklearn.pipeline import Pipeline\n",
    "from sklearn.datasets import fetch_openml\n",
    "\n",
    "data = fetch_openml('mnist_784', version=1)\n",
    "X = data.data / 255.0 \n",
    "y = data.target.astype(int)\n",
    "\n",
    "X = X[(y == 3) | (y == 8)]\n",
    "y = y[(y == 3) | (y == 8)]\n",
    "pipeline = Pipeline([\n",
    "    ('scaler', StandardScaler()), \n",
    "    ('pca', PCA()), \n",
    "    ('knn', KNeighborsClassifier()) \n",
    "])\n",
    "parameters = {\n",
    "    'pca__n_components': [25, 50, 75], \n",
    "    'knn__n_neighbors': list(range(1, 11, 2)),\n",
    "    'knn__weights': ['uniform', 'distance']\n",
    "}\n",
    "grid_search = GridSearchCV(pipeline, parameters, cv=5, n_jobs=-1, scoring='accuracy') \n",
    "grid_search.fit(X, y)  \n",
    "best_knn = grid_search.best_estimator_\n",
    "X_train, X_test, y_train, y_test = train_test_split(X, y, test_size=0.3, random_state=42)\n",
    "best_knn.fit(X_train, y_train)\n",
    "y_pred = best_knn.predict(X_test)\n",
    "print(\"Best parameters found by GridSearchCV:\")\n",
    "print(grid_search.best_params_)\n",
    "accuracy = accuracy_score(y_test, y_pred)\n",
    "print(f\"Test Accuracy: {accuracy:.2f}\")\n",
    "print(\"Classification Report:\")\n",
    "print(classification_report(y_test, y_pred))\n",
    "print(\"Confusion Matrix:\")\n",
    "print(confusion_matrix(y_test, y_pred))"
   ]
  }
 ],
 "metadata": {
  "kernelspec": {
   "display_name": "Python 3",
   "language": "python",
   "name": "python3"
  },
  "language_info": {
   "codemirror_mode": {
    "name": "ipython",
    "version": 3
   },
   "file_extension": ".py",
   "mimetype": "text/x-python",
   "name": "python",
   "nbconvert_exporter": "python",
   "pygments_lexer": "ipython3",
   "version": "3.12.4"
  }
 },
 "nbformat": 4,
 "nbformat_minor": 2
}
