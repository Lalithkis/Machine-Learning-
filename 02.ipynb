{
 "cells": [
  {
   "cell_type": "code",
   "execution_count": null,
   "metadata": {},
   "outputs": [],
   "source": [
    "import pandas as pd\n",
    "import numpy as np\n",
    "import matplotlib.pyplot as plt\n",
    "from sklearn.linear_model import LinearRegression\n",
    "from sklearn.metrics import mean_squared_error\n",
    "\n",
    "# Generate synthetic time series data (replace with your actual data)\n",
    "np.random.seed(42)  # for reproducibility\n",
    "dates = pd.date_range(start='2018-01-01', end='2023-12-31', freq='M')\n",
    "trend = np.arange(len(dates))\n",
    "seasonality = 10 * np.sin(2 * np.pi * np.arange(len(dates)) / 12)\n",
    "noise = np.random.normal(0, 5, len(dates))\n",
    "electricity_consumption = trend + seasonality + noise\n",
    "df = pd.DataFrame({'Date': dates, 'Consumption': electricity_consumption})\n",
    "\n",
    "\n",
    "# Feature Engineering\n",
    "df['Time'] = np.arange(len(df))  \n",
    "df['Month'] = df['Date'].dt.month  \n",
    "df = pd.get_dummies(df, columns=['Month'], drop_first=True) # One-hot encode month\n",
    "train_size = int(len(df) * 0.8)\n",
    "train_data = df[:train_size]\n",
    "test_data = df[train_size:]\n",
    "\n",
    "# Model Training\n",
    "X_train = train_data[['Time'] + [col for col in train_data.columns if 'Month' in col]] # Include time and month dummies\n",
    "y_train = train_data['Consumption']\n",
    "model = LinearRegression()\n",
    "model.fit(X_train, y_train)\n",
    "\n",
    "# Predictions\n",
    "X_test = test_data[['Time'] + [col for col in test_data.columns if 'Month' in col]]\n",
    "y_pred = model.predict(X_test)\n",
    "\n",
    "# Evaluation\n",
    "rmse = np.sqrt(mean_squared_error(test_data['Consumption'], y_pred))\n",
    "print(f\"RMSE: {rmse}\")\n",
    "\n",
    "# Visualization\n",
    "plt.figure(figsize=(12, 6))\n",
    "plt.plot(test_data['Date'], test_data['Consumption'], label='Actual')\n",
    "plt.plot(test_data['Date'], y_pred, label='Predicted', linestyle='--')\n",
    "plt.xlabel('Date')\n",
    "plt.ylabel('Electricity Consumption')\n",
    "plt.title('Electricity Consumption Prediction')\n",
    "plt.legend()\n",
    "plt.show()"
   ]
  }
 ],
 "metadata": {
  "language_info": {
   "name": "python"
  }
 },
 "nbformat": 4,
 "nbformat_minor": 2
}
