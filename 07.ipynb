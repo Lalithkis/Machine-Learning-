{
 "cells": [
  {
   "cell_type": "code",
   "execution_count": 1,
   "metadata": {},
   "outputs": [
    {
     "name": "stdout",
     "output_type": "stream",
     "text": [
      "Intercept: -1.3003329896063587\n",
      "Coefficients:\n",
      "Credit_Score: -0.6668\n",
      "Income_Level: -0.6491\n",
      "Employment_Status: -1.1214\n",
      "Classification Report:\n",
      "              precision    recall  f1-score   support\n",
      "\n",
      "           0       1.00      1.00      1.00         2\n",
      "           1       1.00      1.00      1.00         4\n",
      "\n",
      "    accuracy                           1.00         6\n",
      "   macro avg       1.00      1.00      1.00         6\n",
      "weighted avg       1.00      1.00      1.00         6\n",
      "\n",
      "Confusion Matrix:\n",
      "[[2 0]\n",
      " [0 4]]\n",
      "Probability of Default for Sample Applicant: 0.12\n"
     ]
    },
    {
     "name": "stderr",
     "output_type": "stream",
     "text": [
      "c:\\Users\\ASUS\\AppData\\Local\\Programs\\Python\\Python312\\Lib\\site-packages\\sklearn\\base.py:493: UserWarning: X does not have valid feature names, but StandardScaler was fitted with feature names\n",
      "  warnings.warn(\n"
     ]
    }
   ],
   "source": [
    "import pandas as pd\n",
    "import numpy as np\n",
    "from sklearn.model_selection import train_test_split\n",
    "from sklearn.linear_model import LogisticRegression\n",
    "from sklearn.metrics import classification_report, confusion_matrix\n",
    "from sklearn.preprocessing import StandardScaler\n",
    "\n",
    "\n",
    "data = {\n",
    "    \"Credit_Score\": [750, 680, 720, 640, 800, 600, 710, 780, 650, 730, 620, 820, 690, 760, 670, 790, 630, 740],\n",
    "    \"Income_Level\": [50000, 40000, 55000, 30000, 80000, 20000, 45000, 60000, 35000, 50000, 25000, 70000, 40000, 55000, 30000, 75000, 30000, 45000],\n",
    "    \"Employment_Status\": [1, 0, 1, 0, 1, 0, 1, 1, 0, 1, 0, 1, 1, 1, 0, 1, 0, 1],\n",
    "    \"Default\": [0, 1, 0, 1, 0, 1, 0, 0, 1, 0, 1, 0, 0, 0, 1, 0, 1, 0],\n",
    "}\n",
    "df = pd.DataFrame(data)\n",
    "\n",
    "X = df[[\"Credit_Score\", \"Income_Level\", \"Employment_Status\"]]\n",
    "y = df[\"Default\"]\n",
    "\n",
    "scaler = StandardScaler()\n",
    "X_scaled = scaler.fit_transform(X)\n",
    "\n",
    "X_train, X_test, y_train, y_test = train_test_split(X_scaled, y, test_size=0.3, random_state=42)  # Use scaled X\n",
    "\n",
    "model = LogisticRegression()\n",
    "model.fit(X_train, y_train)\n",
    "\n",
    "coefficients = model.coef_[0]\n",
    "intercept = model.intercept_[0]\n",
    "feature_names = X.columns  \n",
    "\n",
    "\n",
    "print(\"Intercept:\", intercept)\n",
    "print(\"Coefficients:\")\n",
    "for feature, coef in zip(feature_names, coefficients):\n",
    "    print(f\"{feature}: {coef:.4f}\")\n",
    "\n",
    "\n",
    "y_pred = model.predict(X_test)\n",
    "print(\"Classification Report:\")\n",
    "print(classification_report(y_test, y_pred))\n",
    "print(\"Confusion Matrix:\")\n",
    "print(confusion_matrix(y_test, y_pred))\n",
    "\n",
    "sample_applicant = np.array([[700, 45000, 1]])\n",
    "sample_applicant_scaled = scaler.transform(sample_applicant)\n",
    "\n",
    "probability_default = model.predict_proba(sample_applicant_scaled)[0, 1]\n",
    "print(f\"Probability of Default for Sample Applicant: {probability_default:.2f}\")"
   ]
  }
 ],
 "metadata": {
  "kernelspec": {
   "display_name": "Python 3",
   "language": "python",
   "name": "python3"
  },
  "language_info": {
   "codemirror_mode": {
    "name": "ipython",
    "version": 3
   },
   "file_extension": ".py",
   "mimetype": "text/x-python",
   "name": "python",
   "nbconvert_exporter": "python",
   "pygments_lexer": "ipython3",
   "version": "3.12.4"
  }
 },
 "nbformat": 4,
 "nbformat_minor": 2
}
