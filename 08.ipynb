{
 "cells": [
  {
   "cell_type": "code",
   "execution_count": 1,
   "metadata": {},
   "outputs": [
    {
     "name": "stdout",
     "output_type": "stream",
     "text": [
      "Best SVM Classifier:\n",
      "Pipeline(steps=[('vect', TfidfVectorizer()),\n",
      "                ('svm', SVC(C=1, kernel='linear', random_state=42))])\n",
      "\n",
      "Classification Report:\n",
      "              precision    recall  f1-score   support\n",
      "\n",
      "           0       0.33      0.50      0.40         2\n",
      "           1       0.00      0.00      0.00         2\n",
      "\n",
      "    accuracy                           0.25         4\n",
      "   macro avg       0.17      0.25      0.20         4\n",
      "weighted avg       0.17      0.25      0.20         4\n",
      "\n",
      "\n",
      "Confusion Matrix:\n",
      "[[1 1]\n",
      " [2 0]]\n"
     ]
    }
   ],
   "source": [
    "import pandas as pd\n",
    "from sklearn.feature_extraction.text import CountVectorizer, TfidfVectorizer\n",
    "from sklearn.model_selection import train_test_split, GridSearchCV\n",
    "from sklearn.svm import SVC\n",
    "from sklearn.metrics import classification_report, confusion_matrix\n",
    "from sklearn.pipeline import Pipeline\n",
    "\n",
    "data = {\n",
    "    \"Email\": [\n",
    "        \"Win a free prize now\",\n",
    "        \"Meeting at 10am tomorrow\",\n",
    "        \"Earn money quickly and easily\",\n",
    "        \"Schedule for the next week\",\n",
    "        \"Click here for a great offer\",\n",
    "        \"Your invoice for last month\",\n",
    "        \"Exclusive deal just for you\",\n",
    "        \"Join our webinar on data science\",\n",
    "        \"Congratulations! You've won!\",\n",
    "        \"Important meeting reminder\",\n",
    "        \"Double your income instantly\",\n",
    "        \"Project update and next steps\",\n",
    "        \"Limited time offer: 50% off\",\n",
    "        \"Your account statement is ready\",\n",
    "        \"Get rich quick!\",\n",
    "        \"Team building activity next Friday\",\n",
    "\n",
    "    ],\n",
    "    \"Label\": [1, 0, 1, 0, 1, 0, 1, 0, 1, 0, 1, 0, 1, 0, 1, 0],\n",
    "}\n",
    "df = pd.DataFrame(data)\n",
    "vectorizer = TfidfVectorizer()\n",
    "X_train, X_test, y_train, y_test = train_test_split(df[\"Email\"], df[\"Label\"], test_size=0.2, random_state=42)\n",
    "\n",
    "pipeline = Pipeline([\n",
    "    ('vect', vectorizer),\n",
    "    ('svm', SVC(random_state=42))\n",
    "])\n",
    "parameters = {\n",
    "    'svm__kernel': ['linear', 'rbf'],  \n",
    "    'svm__C': [0.1, 1, 10] \n",
    "}\n",
    "grid_search = GridSearchCV(pipeline, parameters, cv=5, scoring='f1') \n",
    "grid_search.fit(X_train, y_train)\n",
    "\n",
    "best_svm = grid_search.best_estimator_\n",
    "predictions = best_svm.predict(X_test)\n",
    "\n",
    "print(\"Best SVM Classifier:\")\n",
    "print(best_svm)\n",
    "print(\"\\nClassification Report:\")\n",
    "print(classification_report(y_test, predictions))\n",
    "print(\"\\nConfusion Matrix:\")\n",
    "print(confusion_matrix(y_test, predictions))"
   ]
  }
 ],
 "metadata": {
  "kernelspec": {
   "display_name": "Python 3",
   "language": "python",
   "name": "python3"
  },
  "language_info": {
   "codemirror_mode": {
    "name": "ipython",
    "version": 3
   },
   "file_extension": ".py",
   "mimetype": "text/x-python",
   "name": "python",
   "nbconvert_exporter": "python",
   "pygments_lexer": "ipython3",
   "version": "3.12.4"
  }
 },
 "nbformat": 4,
 "nbformat_minor": 2
}
