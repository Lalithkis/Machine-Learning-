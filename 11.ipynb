{
 "cells": [
  {
   "cell_type": "code",
   "execution_count": 3,
   "metadata": {},
   "outputs": [
    {
     "name": "stdout",
     "output_type": "stream",
     "text": [
      "Data loaded successfully!\n",
      "Columns in the dataset: Index(['station_id', 'city_name', 'country', 'state', 'iso2', 'iso3',\n",
      "       'latitude', 'longitude'],\n",
      "      dtype='object')\n",
      "Sample data:\n",
      "   station_id   city_name      country       state iso2 iso3   latitude  \\\n",
      "0      41515    Asadabad  Afghanistan       Kunar   AF  AFG  34.866000   \n",
      "1      38954    Fayzabad  Afghanistan  Badakhshan   AF  AFG  37.129761   \n",
      "2      41560   Jalalabad  Afghanistan   Nangarhar   AF  AFG  34.441527   \n",
      "3      38947      Kunduz  Afghanistan      Kunduz   AF  AFG  36.727951   \n",
      "4      38987  Qala i Naw  Afghanistan     Badghis   AF  AFG  34.983000   \n",
      "\n",
      "   longitude  \n",
      "0  71.150005  \n",
      "1  70.579247  \n",
      "2  70.436103  \n",
      "3  68.872530  \n",
      "4  63.133300  \n",
      "Data types:\n",
      " station_id     object\n",
      "city_name      object\n",
      "country        object\n",
      "state          object\n",
      "iso2           object\n",
      "iso3           object\n",
      "latitude      float64\n",
      "longitude     float64\n",
      "dtype: object\n"
     ]
    },
    {
     "ename": "KeyError",
     "evalue": "\"Column 'date' not found in the CSV file.\"",
     "output_type": "error",
     "traceback": [
      "\u001b[1;31m---------------------------------------------------------------------------\u001b[0m",
      "\u001b[1;31mKeyError\u001b[0m                                  Traceback (most recent call last)",
      "Cell \u001b[1;32mIn[3], line 25\u001b[0m\n\u001b[0;32m     23\u001b[0m \u001b[38;5;28;01mfor\u001b[39;00m col \u001b[38;5;129;01min\u001b[39;00m required_columns:\n\u001b[0;32m     24\u001b[0m     \u001b[38;5;28;01mif\u001b[39;00m col \u001b[38;5;129;01mnot\u001b[39;00m \u001b[38;5;129;01min\u001b[39;00m data\u001b[38;5;241m.\u001b[39mcolumns:\n\u001b[1;32m---> 25\u001b[0m         \u001b[38;5;28;01mraise\u001b[39;00m \u001b[38;5;167;01mKeyError\u001b[39;00m(\u001b[38;5;124mf\u001b[39m\u001b[38;5;124m\"\u001b[39m\u001b[38;5;124mColumn \u001b[39m\u001b[38;5;124m'\u001b[39m\u001b[38;5;132;01m{\u001b[39;00mcol\u001b[38;5;132;01m}\u001b[39;00m\u001b[38;5;124m'\u001b[39m\u001b[38;5;124m not found in the CSV file.\u001b[39m\u001b[38;5;124m\"\u001b[39m)\n\u001b[0;32m     27\u001b[0m \u001b[38;5;28;01mtry\u001b[39;00m:\n\u001b[0;32m     29\u001b[0m     data[\u001b[38;5;124m'\u001b[39m\u001b[38;5;124mday_of_year\u001b[39m\u001b[38;5;124m'\u001b[39m] \u001b[38;5;241m=\u001b[39m pd\u001b[38;5;241m.\u001b[39mto_datetime(data[\u001b[38;5;124m'\u001b[39m\u001b[38;5;124mdate\u001b[39m\u001b[38;5;124m'\u001b[39m], errors\u001b[38;5;241m=\u001b[39m\u001b[38;5;124m'\u001b[39m\u001b[38;5;124mcoerce\u001b[39m\u001b[38;5;124m'\u001b[39m)\u001b[38;5;241m.\u001b[39mdt\u001b[38;5;241m.\u001b[39mdayofyear\n",
      "\u001b[1;31mKeyError\u001b[0m: \"Column 'date' not found in the CSV file.\""
     ]
    }
   ],
   "source": [
    "import pandas as pd\n",
    "import numpy as np\n",
    "from sklearn.model_selection import train_test_split\n",
    "from sklearn.linear_model import LinearRegression\n",
    "from sklearn.preprocessing import PolynomialFeatures\n",
    "from sklearn.ensemble import RandomForestRegressor\n",
    "from sklearn.metrics import mean_squared_error\n",
    "\n",
    "try:\n",
    "    data = pd.read_csv(r\"C:\\Users\\ASUS\\Desktop\\CSV files\\cities.csv\")\n",
    "    print(\"Data loaded successfully!\")\n",
    "except FileNotFoundError:\n",
    "    print(\"CSV file not found. Please check the file path.\")\n",
    "    raise\n",
    "\n",
    "print(\"Columns in the dataset:\", data.columns)\n",
    "print(\"Sample data:\\n\", data.head())\n",
    "print(\"Data types:\\n\", data.dtypes)\n",
    "\n",
    "data.columns = data.columns.str.strip()\n",
    "\n",
    "required_columns = ['date', 'temperature']\n",
    "for col in required_columns:\n",
    "    if col not in data.columns:\n",
    "        raise KeyError(f\"Column '{col}' not found in the CSV file.\")\n",
    "\n",
    "try:\n",
    "    \n",
    "    data['day_of_year'] = pd.to_datetime(data['date'], errors='coerce').dt.dayofyear\n",
    "    \n",
    "    data.dropna(subset=['day_of_year'], inplace=True)\n",
    "    data['sin_day'] = np.sin(2 * np.pi * data['day_of_year'] / 365.25)\n",
    "    data['cos_day'] = np.cos(2 * np.pi * data['day_of_year'] / 365.25)\n",
    "except Exception as e:\n",
    "    print(\"Error during feature engineering:\", e)\n",
    "    raise \n",
    "if 'temperature' not in data.columns:\n",
    "    raise KeyError(\"Column 'temperature' not found in the CSV file.\")\n",
    "    \n",
    "X_poly_features = ['sin_day', 'cos_day']\n",
    "y = data['temperature']\n",
    "\n",
    "poly = PolynomialFeatures(degree=3, include_bias=False)\n",
    "X_poly = poly.fit_transform(data[X_poly_features])\n",
    "\n",
    "X_train, X_test, y_train, y_test = train_test_split(X_poly, y, test_size=0.2, random_state=42)\n",
    "\n",
    "model = LinearRegression()\n",
    "model.fit(X_train, y_train)\n",
    "\n",
    "y_pred = model.predict(X_test)\n",
    "mse = mean_squared_error(y_test, y_pred)\n",
    "print('Mean Squared Error:', mse)\n",
    "results = pd.DataFrame({'Actual': y_test.values, 'Predicted': y_pred})\n",
    "print(\"Sample predictions:\\n\", results.head())\n"
   ]
  }
 ],
 "metadata": {
  "kernelspec": {
   "display_name": "Python 3",
   "language": "python",
   "name": "python3"
  },
  "language_info": {
   "codemirror_mode": {
    "name": "ipython",
    "version": 3
   },
   "file_extension": ".py",
   "mimetype": "text/x-python",
   "name": "python",
   "nbconvert_exporter": "python",
   "pygments_lexer": "ipython3",
   "version": "3.12.4"
  }
 },
 "nbformat": 4,
 "nbformat_minor": 2
}
