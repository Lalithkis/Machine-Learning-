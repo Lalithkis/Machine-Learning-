{
 "cells": [
  {
   "cell_type": "code",
   "execution_count": 1,
   "metadata": {},
   "outputs": [
    {
     "name": "stdout",
     "output_type": "stream",
     "text": [
      "R-squared: 0.02\n",
      "Mean Squared Error (MSE): 8067679662.70\n",
      "Root Mean Squared Error (RMSE): 89820.26\n",
      "Mean Absolute Error (MAE): 77358.93\n",
      "\n",
      "Intercept: -1334512.069823899\n",
      "Coefficients:\n",
      "Location_Score: -5916.9257\n",
      "Size_SqFt: 14.9116\n",
      "Bedrooms: 3334.8306\n",
      "YearBuilt: 832.6355\n"
     ]
    }
   ],
   "source": [
    "import pandas as pd\n",
    "import numpy as np\n",
    "from sklearn.model_selection import train_test_split\n",
    "from sklearn.linear_model import LinearRegression\n",
    "from sklearn.metrics import r2_score, mean_squared_error, mean_absolute_error\n",
    "np.random.seed(0)  \n",
    "n_samples = 50\n",
    "data = {\n",
    "    \"Location_Score\": np.random.randint(5, 10, n_samples),\n",
    "    \"Size_SqFt\": np.random.randint(700, 2000, n_samples),\n",
    "    \"Bedrooms\": np.random.randint(1, 5, n_samples),\n",
    "    \"YearBuilt\": np.random.randint(1980, 2023, n_samples),  # Added a feature\n",
    "    \"Price\": np.random.randint(150000, 500000, n_samples),\n",
    "}\n",
    "df = pd.DataFrame(data)\n",
    "\n",
    "X = df[[\"Location_Score\", \"Size_SqFt\", \"Bedrooms\", \"YearBuilt\"]]\n",
    "y = df[\"Price\"]\n",
    "\n",
    "X_train, X_test, y_train, y_test = train_test_split(X, y, test_size=0.2, random_state=42)\n",
    "\n",
    "model = LinearRegression()\n",
    "model.fit(X_train, y_train)\n",
    "\n",
    "y_pred = model.predict(X_test)\n",
    "\n",
    "r_squared = r2_score(y_test, y_pred)\n",
    "mse = mean_squared_error(y_test, y_pred)\n",
    "mae = mean_absolute_error(y_test, y_pred)  \n",
    "rmse = np.sqrt(mse) \n",
    "\n",
    "print(f\"R-squared: {r_squared:.2f}\")\n",
    "print(f\"Mean Squared Error (MSE): {mse:.2f}\")\n",
    "print(f\"Root Mean Squared Error (RMSE): {rmse:.2f}\")\n",
    "print(f\"Mean Absolute Error (MAE): {mae:.2f}\")\n",
    "\n",
    "coefficients = model.coef_\n",
    "intercept = model.intercept_\n",
    "feature_names = X.columns\n",
    "\n",
    "print(\"\\nIntercept:\", intercept)\n",
    "print(\"Coefficients:\")\n",
    "for feature, coef in zip(feature_names, coefficients):\n",
    "    print(f\"{feature}: {coef:.4f}\")"
   ]
  }
 ],
 "metadata": {
  "kernelspec": {
   "display_name": "Python 3",
   "language": "python",
   "name": "python3"
  },
  "language_info": {
   "codemirror_mode": {
    "name": "ipython",
    "version": 3
   },
   "file_extension": ".py",
   "mimetype": "text/x-python",
   "name": "python",
   "nbconvert_exporter": "python",
   "pygments_lexer": "ipython3",
   "version": "3.12.4"
  }
 },
 "nbformat": 4,
 "nbformat_minor": 2
}
