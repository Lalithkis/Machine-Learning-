{
 "cells": [
  {
   "cell_type": "code",
   "execution_count": null,
   "metadata": {},
   "outputs": [
    {
     "name": "stdout",
     "output_type": "stream",
     "text": [
      "Model Coefficients: [-0.12431069  0.27015868  0.16907522 -0.21012802  0.7168072   3.53837183\n",
      "  0.30200073  0.15543479 -0.06007619]\n",
      "Intercept: 10.456521739130435\n",
      "R² Score: 0.8000576519266742\n",
      "Mean Absolute Error (MAE): 1.3645348064458795\n",
      "Mean Squared Error (MSE): 4.3951453744120785\n",
      "\n",
      "Feature Coefficients:\n",
      "Coefficient for studytime: -0.12\n",
      "Coefficient for absences: 0.27\n",
      "Coefficient for Medu: 0.17\n",
      "Coefficient for Fedu: -0.21\n",
      "Coefficient for G1: 0.72\n",
      "Coefficient for G2: 3.54\n",
      "Coefficient for schoolsup_yes: 0.30\n",
      "Coefficient for higher_yes: 0.16\n",
      "Coefficient for internet_yes: -0.06\n"
     ]
    }
   ],
   "source": [
    "import pandas as pd\n",
    "import numpy as np\n",
    "from sklearn.model_selection import train_test_split\n",
    "from sklearn.linear_model import LinearRegression\n",
    "from sklearn.metrics import r2_score, mean_absolute_error, mean_squared_error\n",
    "from sklearn.preprocessing import StandardScaler\n",
    "file_path = r\"C:\\Users\\ASUS\\Desktop\\CSV files\\student\\student-mat.csv\"\n",
    "df = pd.read_csv(file_path, delimiter=';')\n",
    "selected_features = ['studytime', 'absences', 'Medu', 'Fedu', 'G1', 'G2', 'G3', 'schoolsup', 'higher', 'internet']\n",
    "df = df[selected_features]\n",
    "df = pd.get_dummies(df, columns=['schoolsup', 'higher', 'internet'], drop_first=True)\n",
    "X = df.drop('G3', axis=1)\n",
    "y = df['G3']\n",
    "X_train, X_test, y_train, y_test = train_test_split(X, y, test_size=0.3, random_state=42)\n",
    "scaler = StandardScaler()\n",
    "X_train_scaled = scaler.fit_transform(X_train)\n",
    "X_test_scaled = scaler.transform(X_test)\n",
    "model = LinearRegression()\n",
    "model.fit(X_train_scaled, y_train)\n",
    "y_pred = model.predict(X_test_scaled)\n",
    "r2 = r2_score(y_test, y_pred)\n",
    "mae = mean_absolute_error(y_test, y_pred)\n",
    "mse = mean_squared_error(y_test, y_pred)\n",
    "print(\"Model Coefficients:\", model.coef_)\n",
    "print(\"Intercept:\", model.intercept_)\n",
    "print(\"R² Score:\", r2)\n",
    "print(\"Mean Absolute Error (MAE):\", mae)\n",
    "print(\"Mean Squared Error (MSE):\", mse)\n",
    "feature_names = X.columns\n",
    "print(\"\\nFeature Coefficients:\")\n",
    "for i, coef in enumerate(model.coef_):\n",
    "    print(f\"Coefficient for {feature_names[i]}: {coef:.2f}\")\n"
   ]
  }
 ],
 "metadata": {
  "kernelspec": {
   "display_name": "Python 3",
   "language": "python",
   "name": "python3"
  },
  "language_info": {
   "codemirror_mode": {
    "name": "ipython",
    "version": 3
   },
   "file_extension": ".py",
   "mimetype": "text/x-python",
   "name": "python",
   "nbconvert_exporter": "python",
   "pygments_lexer": "ipython3",
   "version": "3.12.4"
  }
 },
 "nbformat": 4,
 "nbformat_minor": 2
}
